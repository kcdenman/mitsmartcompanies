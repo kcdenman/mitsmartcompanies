{
 "cells": [
  {
   "cell_type": "code",
   "execution_count": 420,
   "metadata": {},
   "outputs": [],
   "source": [
    "#Scrape MIT Technology Review 50 Smartest Companies"
   ]
  },
  {
   "cell_type": "code",
   "execution_count": 421,
   "metadata": {},
   "outputs": [],
   "source": [
    "#0. Load necessary libraries and create runtime variables\n",
    "\n",
    "import requests\n",
    "from bs4 import BeautifulSoup\n",
    "import numpy as np\n",
    "import pandas as pd\n",
    "import os\n",
    "import time\n",
    "\n",
    "timestr = time.strftime(\"%Y%m%d-%H%M%S\")"
   ]
  },
  {
   "cell_type": "code",
   "execution_count": 422,
   "metadata": {},
   "outputs": [],
   "source": [
    "#1. Make the soup\n",
    "\n",
    "#define url\n",
    "url = \"https://www.technologyreview.com/lists/companies/2017/intro/\"\n",
    "\n",
    "#store html data\n",
    "page = requests.get(url)\n",
    "\n",
    "#make BeautifulSoup\n",
    "soup = BeautifulSoup(page.content, 'html.parser')"
   ]
  },
  {
   "cell_type": "code",
   "execution_count": 423,
   "metadata": {},
   "outputs": [],
   "source": [
    "#2. company ranks\n",
    "\n",
    "rank_box_all = soup.findAll(class_= 'company__rank')\n",
    "rank_array = np.array([])\n",
    "\n",
    "for tag in rank_box_all:\n",
    "    item = tag.text.strip()\n",
    "    rank_array = np.append(rank_array, item)\n",
    "\n"
   ]
  },
  {
   "cell_type": "code",
   "execution_count": 424,
   "metadata": {
    "scrolled": true
   },
   "outputs": [],
   "source": [
    "#3. company names\n",
    "title_box_all = soup.findAll(class_= 'company__title')\n",
    "title_array = np.array([])\n",
    "\n",
    "for tag in title_box_all:\n",
    "    item = tag.text.strip()\n",
    "    title_array = np.append(title_array, item)\n"
   ]
  },
  {
   "cell_type": "code",
   "execution_count": 425,
   "metadata": {},
   "outputs": [],
   "source": [
    "#4. company details\n",
    "\n",
    "list_item_box = soup.findAll(\"li\", {\"class\": \"company__stats__item\"})\n",
    "\n",
    "headquarters_array = np.array([])\n",
    "industry_array = np.array([])\n",
    "status_array = np.array([])\n",
    "years_on_list_array = np.array([])\n",
    "valuation_array = np.array([])\n",
    "\n",
    "for tag in list_item_box:\n",
    "    item = tag.text.strip()\n",
    "    if \"Headquarters\" in item:\n",
    "        item = item.replace(\"Headquarters\\n\\t\\t\\t\\n\\t\\t\\t\", \"\")\n",
    "        headquarters_array = np.append(headquarters_array, item)\n",
    "    elif \"Industry\" in item:\n",
    "        item = item.replace(\"Industry \", \"\")\n",
    "        industry_array = np.append(industry_array, item)\n",
    "    elif \"Status\" in item:\n",
    "        item = item.replace(\"Status \", \"\")\n",
    "        status_array = np.append(status_array, item)\n",
    "    elif \"Years on the List\" in item:\n",
    "        years_on_list_array = np.append(years_on_list_array, item)\n",
    "    elif \"Valuation\" in item:\n",
    "        item = item.replace(\"Valuation \", \"\")\n",
    "        valuation_array = np.append(valuation_array, item)"
   ]
  },
  {
   "cell_type": "code",
   "execution_count": 426,
   "metadata": {},
   "outputs": [],
   "source": [
    "#5. company summary\n",
    "\n",
    "summary_box = soup.findAll(\"p\", {\"class\": \"company__body__item company__body__summary\"})\n",
    "summary_array = np.array([])\n",
    "\n",
    "for tag in summary_box:\n",
    "    item = tag.text.strip()\n",
    "    item = item.replace(\"Summary \", \"\")\n",
    "    summary_array = np.append(summary_array, item)"
   ]
  },
  {
   "cell_type": "code",
   "execution_count": 427,
   "metadata": {},
   "outputs": [],
   "source": [
    "#6. combine arrays into single dataframe\n",
    "\n",
    "mitsmartcompanies = pd.DataFrame({'Rank':rank_array, \\\n",
    "                             'Title':title_array, \\\n",
    "                             'Headquarters':headquarters_array, \\\n",
    "                             'Industry':industry_array, \\\n",
    "                             'Status': status_array, \\\n",
    "                             'Valuation': valuation_array, \\\n",
    "                             'TimeStamp': timestr, \\\n",
    "                             'Summary': summary_array \\\n",
    "                            })"
   ]
  },
  {
   "cell_type": "code",
   "execution_count": 428,
   "metadata": {},
   "outputs": [],
   "source": [
    "#6. write file or append file\n",
    "\n",
    "filepath = '/Users/kevin/Documents/pythonapps/mittech/datastore/'\n",
    "filename = 'MIT_Smart_Companies_List.csv'\n",
    "\n",
    "if os.path.exists(filepath + filename):\n",
    "    with open(filepath + filename, 'a') as f:\n",
    "        mitsmartcompanies.to_csv(f, header=False)\n",
    "    f.close()\n",
    "else:\n",
    "    mitsmartcompanies.to_csv(filepath + filename, index_label = 'PandasRowIndex')"
   ]
  },
  {
   "cell_type": "code",
   "execution_count": 430,
   "metadata": {},
   "outputs": [
    {
     "data": {
      "text/html": [
       "<div>\n",
       "<style scoped>\n",
       "    .dataframe tbody tr th:only-of-type {\n",
       "        vertical-align: middle;\n",
       "    }\n",
       "\n",
       "    .dataframe tbody tr th {\n",
       "        vertical-align: top;\n",
       "    }\n",
       "\n",
       "    .dataframe thead th {\n",
       "        text-align: right;\n",
       "    }\n",
       "</style>\n",
       "<table border=\"1\" class=\"dataframe\">\n",
       "  <thead>\n",
       "    <tr style=\"text-align: right;\">\n",
       "      <th></th>\n",
       "      <th>Headquarters</th>\n",
       "      <th>Industry</th>\n",
       "      <th>Rank</th>\n",
       "      <th>Status</th>\n",
       "      <th>Summary</th>\n",
       "      <th>TimeStamp</th>\n",
       "      <th>Title</th>\n",
       "      <th>Valuation</th>\n",
       "    </tr>\n",
       "  </thead>\n",
       "  <tbody>\n",
       "    <tr>\n",
       "      <th>count</th>\n",
       "      <td>50</td>\n",
       "      <td>50</td>\n",
       "      <td>50</td>\n",
       "      <td>50</td>\n",
       "      <td>50</td>\n",
       "      <td>50</td>\n",
       "      <td>50</td>\n",
       "      <td>50</td>\n",
       "    </tr>\n",
       "    <tr>\n",
       "      <th>unique</th>\n",
       "      <td>41</td>\n",
       "      <td>7</td>\n",
       "      <td>50</td>\n",
       "      <td>2</td>\n",
       "      <td>50</td>\n",
       "      <td>1</td>\n",
       "      <td>50</td>\n",
       "      <td>38</td>\n",
       "    </tr>\n",
       "    <tr>\n",
       "      <th>top</th>\n",
       "      <td>Mountain View, California</td>\n",
       "      <td>Intelligent machines</td>\n",
       "      <td>15</td>\n",
       "      <td>Public</td>\n",
       "      <td>In 2017, SpaceX proved it’s possible to fly a ...</td>\n",
       "      <td>20180409-085717</td>\n",
       "      <td>Veritas Genetics</td>\n",
       "      <td>N/A</td>\n",
       "    </tr>\n",
       "    <tr>\n",
       "      <th>freq</th>\n",
       "      <td>3</td>\n",
       "      <td>15</td>\n",
       "      <td>1</td>\n",
       "      <td>31</td>\n",
       "      <td>1</td>\n",
       "      <td>50</td>\n",
       "      <td>1</td>\n",
       "      <td>8</td>\n",
       "    </tr>\n",
       "  </tbody>\n",
       "</table>\n",
       "</div>"
      ],
      "text/plain": [
       "                     Headquarters              Industry Rank  Status  \\\n",
       "count                          50                    50   50      50   \n",
       "unique                         41                     7   50       2   \n",
       "top     Mountain View, California  Intelligent machines   15  Public   \n",
       "freq                            3                    15    1      31   \n",
       "\n",
       "                                                  Summary        TimeStamp  \\\n",
       "count                                                  50               50   \n",
       "unique                                                 50                1   \n",
       "top     In 2017, SpaceX proved it’s possible to fly a ...  20180409-085717   \n",
       "freq                                                    1               50   \n",
       "\n",
       "                   Title Valuation  \n",
       "count                 50        50  \n",
       "unique                50        38  \n",
       "top     Veritas Genetics       N/A  \n",
       "freq                   1         8  "
      ]
     },
     "execution_count": 430,
     "metadata": {},
     "output_type": "execute_result"
    }
   ],
   "source": [
    "mitsmartcompanies.describe()"
   ]
  },
  {
   "cell_type": "code",
   "execution_count": null,
   "metadata": {},
   "outputs": [],
   "source": []
  }
 ],
 "metadata": {
  "kernelspec": {
   "display_name": "Python 3",
   "language": "python",
   "name": "python3"
  },
  "language_info": {
   "codemirror_mode": {
    "name": "ipython",
    "version": 3
   },
   "file_extension": ".py",
   "mimetype": "text/x-python",
   "name": "python",
   "nbconvert_exporter": "python",
   "pygments_lexer": "ipython3",
   "version": "3.6.4"
  }
 },
 "nbformat": 4,
 "nbformat_minor": 2
}
